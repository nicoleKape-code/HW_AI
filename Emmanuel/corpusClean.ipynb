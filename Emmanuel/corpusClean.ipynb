{
 "cells": [
  {
   "attachments": {},
   "cell_type": "markdown",
   "metadata": {},
   "source": [
    "## NLTK Modules"
   ]
  },
  {
   "cell_type": "code",
   "execution_count": 43,
   "metadata": {},
   "outputs": [],
   "source": [
    "import nltk\n",
    "import numpy as np\n",
    "import pandas as pd\n",
    "from nltk.corpus import PlaintextCorpusReader\n",
    "import os"
   ]
  },
  {
   "cell_type": "code",
   "execution_count": 44,
   "metadata": {},
   "outputs": [
    {
     "name": "stderr",
     "output_type": "stream",
     "text": [
      "[nltk_data] Downloading package punkt_tab to\n",
      "[nltk_data]     /Users/nicole/nltk_data...\n",
      "[nltk_data]   Package punkt_tab is already up-to-date!\n"
     ]
    },
    {
     "data": {
      "text/plain": [
       "True"
      ]
     },
     "execution_count": 44,
     "metadata": {},
     "output_type": "execute_result"
    }
   ],
   "source": [
    "nltk.download('punkt_tab')"
   ]
  },
  {
   "cell_type": "code",
   "execution_count": 45,
   "metadata": {},
   "outputs": [
    {
     "name": "stdout",
     "output_type": "stream",
     "text": [
      "Current working directory: /Users/nicole/Desktop/HW_AI/Emmanuel\n"
     ]
    }
   ],
   "source": [
    "print(\"Current working directory:\", os.getcwd())"
   ]
  },
  {
   "cell_type": "code",
   "execution_count": 46,
   "metadata": {},
   "outputs": [],
   "source": [
    "corpus_root = \"Whiplash\"\n",
    "my_corpus = PlaintextCorpusReader(corpus_root, \".*\")"
   ]
  },
  {
   "cell_type": "code",
   "execution_count": 47,
   "metadata": {},
   "outputs": [
    {
     "data": {
      "text/plain": [
       "'\\nwith open(\"WHIPLASH.txt\", \"r\", encoding=\"utf-8\") as f:\\n    text = f.read()\\n\\nwords =nltk.word_tokenize(text)\\n'"
      ]
     },
     "execution_count": 47,
     "metadata": {},
     "output_type": "execute_result"
    }
   ],
   "source": [
    "\n",
    "'''\n",
    "with open(\"WHIPLASH.txt\", \"r\", encoding=\"utf-8\") as f:\n",
    "    text = f.read()\n",
    "\n",
    "words =nltk.word_tokenize(text)\n",
    "'''"
   ]
  },
  {
   "cell_type": "markdown",
   "metadata": {},
   "source": []
  },
  {
   "cell_type": "code",
   "execution_count": 48,
   "metadata": {},
   "outputs": [
    {
     "data": {
      "text/plain": [
       "['WHIPLASH.txt']"
      ]
     },
     "execution_count": 48,
     "metadata": {},
     "output_type": "execute_result"
    }
   ],
   "source": [
    "my_corpus.fileids()"
   ]
  },
  {
   "cell_type": "code",
   "execution_count": 49,
   "metadata": {},
   "outputs": [
    {
     "data": {
      "text/plain": [
       "['WHIPLASH', 'by', 'Damien', 'Chazelle', 'BLACK', ...]"
      ]
     },
     "execution_count": 49,
     "metadata": {},
     "output_type": "execute_result"
    }
   ],
   "source": [
    "my_corpus.words()"
   ]
  },
  {
   "cell_type": "code",
   "execution_count": 50,
   "metadata": {},
   "outputs": [
    {
     "data": {
      "text/plain": [
       "[['WHIPLASH'], ['by'], ['Damien', 'Chazelle'], ...]"
      ]
     },
     "execution_count": 50,
     "metadata": {},
     "output_type": "execute_result"
    }
   ],
   "source": [
    "my_corpus.sents()"
   ]
  },
  {
   "cell_type": "code",
   "execution_count": 51,
   "metadata": {},
   "outputs": [
    {
     "data": {
      "text/plain": [
       "32841"
      ]
     },
     "execution_count": 51,
     "metadata": {},
     "output_type": "execute_result"
    }
   ],
   "source": [
    "len(my_corpus.words())"
   ]
  },
  {
   "cell_type": "code",
   "execution_count": 52,
   "metadata": {},
   "outputs": [],
   "source": [
    "import numpy as np\n",
    "import pandas as pd\n",
    "\n",
    "def get_frequency_corpus(my_corpus):\n",
    "  frequent_words = {}\n",
    "  for word in my_corpus.words():\n",
    "    if word in frequent_words:\n",
    "      frequent_words[word]+=1\n",
    "    else:\n",
    "      frequent_words[word]=1\n",
    "  keys = list(frequent_words.keys())\n",
    "  values = list(frequent_words.values())\n",
    "  sorted_value_index = np.flip(np.argsort(values))\n",
    "  sorted_dict = [(keys[i], values[i]) for i in sorted_value_index]\n",
    "  return sorted_dict"
   ]
  },
  {
   "cell_type": "code",
   "execution_count": 53,
   "metadata": {},
   "outputs": [
    {
     "data": {
      "text/plain": [
       "[('.', 2338),\n",
       " (',', 1296),\n",
       " (\"'\", 977),\n",
       " ('the', 827),\n",
       " ('...', 641),\n",
       " ('Andrew', 523),\n",
       " ('-', 518),\n",
       " ('—', 502),\n",
       " ('to', 492),\n",
       " ('(', 475),\n",
       " ('a', 458),\n",
       " ('I', 417),\n",
       " (')', 397),\n",
       " ('his', 372),\n",
       " ('s', 361),\n",
       " ('and', 340),\n",
       " ('you', 292),\n",
       " ('FLETCHER', 270),\n",
       " ('ANDREW', 263),\n",
       " ('in', 252),\n",
       " ('/', 236),\n",
       " ('of', 231),\n",
       " ('it', 224),\n",
       " ('Fletcher', 218),\n",
       " ('?', 216),\n",
       " ('at', 205),\n",
       " ('is', 191),\n",
       " ('on', 187),\n",
       " ('He', 178),\n",
       " ('t', 165),\n",
       " ('he', 165),\n",
       " ('The', 164),\n",
       " ('D', 164),\n",
       " ('CONT', 163),\n",
       " ('him', 132),\n",
       " ('9', 122),\n",
       " ('up', 120),\n",
       " ('10', 117),\n",
       " ('2013', 112),\n",
       " ('Pink', 112),\n",
       " ('A', 109),\n",
       " ('as', 107),\n",
       " ('that', 106),\n",
       " ('for', 104),\n",
       " ('INT', 100),\n",
       " ('You', 99),\n",
       " ('looks', 99),\n",
       " ('out', 98),\n",
       " ('this', 98),\n",
       " ('back', 96),\n",
       " ('\"', 93),\n",
       " (':', 91),\n",
       " ('And', 91),\n",
       " ('just', 84),\n",
       " ('with', 79),\n",
       " ('can', 78),\n",
       " ('m', 76),\n",
       " ('S', 75),\n",
       " ('eyes', 75),\n",
       " ('then', 75),\n",
       " ('Then', 74),\n",
       " ('down', 72),\n",
       " ('know', 70),\n",
       " ('off', 69),\n",
       " ('time', 69),\n",
       " ('It', 68),\n",
       " ('like', 67),\n",
       " ('re', 67),\n",
       " ('me', 65),\n",
       " ('have', 63),\n",
       " ('band', 63),\n",
       " ('now', 63),\n",
       " ('was', 62),\n",
       " ('from', 62),\n",
       " ('my', 61),\n",
       " ('about', 60),\n",
       " ('what', 59),\n",
       " ('into', 58),\n",
       " ('not', 56),\n",
       " ('--', 55),\n",
       " ('but', 55),\n",
       " ('we', 54),\n",
       " ('don', 54),\n",
       " ('Ryan', 53),\n",
       " ('your', 53),\n",
       " ('!', 51),\n",
       " ('turns', 51),\n",
       " ('do', 50),\n",
       " ('one', 49),\n",
       " ('be', 49),\n",
       " ('all', 49),\n",
       " ('are', 49),\n",
       " ('ROOM', 49),\n",
       " ('playing', 48),\n",
       " ('right', 48),\n",
       " ('But', 44),\n",
       " ('No', 43),\n",
       " ('NICOLE', 43),\n",
       " ('so', 42),\n",
       " ('HALL', 41)]"
      ]
     },
     "execution_count": 53,
     "metadata": {},
     "output_type": "execute_result"
    }
   ],
   "source": [
    "frequency = get_frequency_corpus(my_corpus)\n",
    "frequency[:100]"
   ]
  },
  {
   "cell_type": "code",
   "execution_count": 54,
   "metadata": {},
   "outputs": [
    {
     "data": {
      "text/plain": [
       "<Axes: xlabel='position', ylabel='count'>"
      ]
     },
     "execution_count": 54,
     "metadata": {},
     "output_type": "execute_result"
    },
    {
     "data": {
      "image/png": "[encoded data removed]",
      "text/plain": [
       "<Figure size 640x480 with 1 Axes>"
      ]
     },
     "metadata": {},
     "output_type": "display_data"
    }
   ],
   "source": [
    "import matplotlib.pyplot as plt\n",
    "%matplotlib inline\n",
    "\n",
    "df = pd.DataFrame(frequency, columns =['token', 'count'])\n",
    "df[\"position\"]= df.apply((lambda x: x.name), axis=1)\n",
    "df.plot.scatter(x='position',y='count')"
   ]
  },
  {
   "cell_type": "code",
   "execution_count": 55,
   "metadata": {},
   "outputs": [],
   "source": [
    "df[\"zipf\"]= df.apply((lambda x: x.name*x[\"count\"]), axis=1)"
   ]
  },
  {
   "cell_type": "code",
   "execution_count": 56,
   "metadata": {},
   "outputs": [
    {
     "data": {
      "text/plain": [
       "<Axes: xlabel='position', ylabel='zipf'>"
      ]
     },
     "execution_count": 56,
     "metadata": {},
     "output_type": "execute_result"
    },
    {
     "data": {
      "image/png": "[encoded data removed]",
      "text/plain": [
       "<Figure size 640x480 with 1 Axes>"
      ]
     },
     "metadata": {},
     "output_type": "display_data"
    }
   ],
   "source": [
    "df.plot.scatter(x='position',y='zipf')"
   ]
  },
  {
   "cell_type": "code",
   "execution_count": 57,
   "metadata": {},
   "outputs": [
    {
     "name": "stderr",
     "output_type": "stream",
     "text": [
      "[nltk_data] Downloading package stopwords to\n",
      "[nltk_data]     /Users/nicole/nltk_data...\n",
      "[nltk_data]   Package stopwords is already up-to-date!\n"
     ]
    },
    {
     "data": {
      "text/plain": [
       "True"
      ]
     },
     "execution_count": 57,
     "metadata": {},
     "output_type": "execute_result"
    }
   ],
   "source": [
    "nltk.download('stopwords')"
   ]
  },
  {
   "cell_type": "code",
   "execution_count": 58,
   "metadata": {},
   "outputs": [
    {
     "data": {
      "text/plain": [
       "[('.', 2338),\n",
       " (',', 1296),\n",
       " (\"'\", 977),\n",
       " ('...', 641),\n",
       " ('Andrew', 523),\n",
       " ('-', 518),\n",
       " ('—', 502),\n",
       " ('(', 475),\n",
       " (')', 397),\n",
       " ('FLETCHER', 270),\n",
       " ('ANDREW', 263),\n",
       " ('/', 236),\n",
       " ('Fletcher', 218),\n",
       " ('?', 216),\n",
       " ('CONT', 163),\n",
       " ('9', 122),\n",
       " ('10', 117),\n",
       " ('2013', 112),\n",
       " ('Pink', 112),\n",
       " ('INT', 100)]"
      ]
     },
     "execution_count": 58,
     "metadata": {},
     "output_type": "execute_result"
    }
   ],
   "source": [
    "from nltk.corpus import stopwords\n",
    "\n",
    "def remove_stopwords(frequency_list):\n",
    "    stop_words = set(stopwords.words(\"english\"))\n",
    "    filtered_tokens = [(token, count) for token,count in frequency_list if token.lower() not in stop_words]\n",
    "    return filtered_tokens\n",
    "new_frequency = remove_stopwords(frequency)\n",
    "new_frequency[:20]"
   ]
  },
  {
   "cell_type": "code",
   "execution_count": 59,
   "metadata": {},
   "outputs": [
    {
     "data": {
      "text/plain": [
       "['a',\n",
       " 'about',\n",
       " 'above',\n",
       " 'after',\n",
       " 'again',\n",
       " 'against',\n",
       " 'ain',\n",
       " 'all',\n",
       " 'am',\n",
       " 'an',\n",
       " 'and',\n",
       " 'any',\n",
       " 'are',\n",
       " 'aren',\n",
       " \"aren't\",\n",
       " 'as',\n",
       " 'at',\n",
       " 'be',\n",
       " 'because',\n",
       " 'been',\n",
       " 'before',\n",
       " 'being',\n",
       " 'below',\n",
       " 'between',\n",
       " 'both',\n",
       " 'but',\n",
       " 'by',\n",
       " 'can',\n",
       " 'couldn',\n",
       " \"couldn't\",\n",
       " 'd',\n",
       " 'did',\n",
       " 'didn',\n",
       " \"didn't\",\n",
       " 'do',\n",
       " 'does',\n",
       " 'doesn',\n",
       " \"doesn't\",\n",
       " 'doing',\n",
       " 'don',\n",
       " \"don't\",\n",
       " 'down',\n",
       " 'during',\n",
       " 'each',\n",
       " 'few',\n",
       " 'for',\n",
       " 'from',\n",
       " 'further',\n",
       " 'had',\n",
       " 'hadn',\n",
       " \"hadn't\",\n",
       " 'has',\n",
       " 'hasn',\n",
       " \"hasn't\",\n",
       " 'have',\n",
       " 'haven',\n",
       " \"haven't\",\n",
       " 'having',\n",
       " 'he',\n",
       " \"he'd\",\n",
       " \"he'll\",\n",
       " 'her',\n",
       " 'here',\n",
       " 'hers',\n",
       " 'herself',\n",
       " \"he's\",\n",
       " 'him',\n",
       " 'himself',\n",
       " 'his',\n",
       " 'how',\n",
       " 'i',\n",
       " \"i'd\",\n",
       " 'if',\n",
       " \"i'll\",\n",
       " \"i'm\",\n",
       " 'in',\n",
       " 'into',\n",
       " 'is',\n",
       " 'isn',\n",
       " \"isn't\",\n",
       " 'it',\n",
       " \"it'd\",\n",
       " \"it'll\",\n",
       " \"it's\",\n",
       " 'its',\n",
       " 'itself',\n",
       " \"i've\",\n",
       " 'just',\n",
       " 'll',\n",
       " 'm',\n",
       " 'ma',\n",
       " 'me',\n",
       " 'mightn',\n",
       " \"mightn't\",\n",
       " 'more',\n",
       " 'most',\n",
       " 'mustn',\n",
       " \"mustn't\",\n",
       " 'my',\n",
       " 'myself',\n",
       " 'needn',\n",
       " \"needn't\",\n",
       " 'no',\n",
       " 'nor',\n",
       " 'not',\n",
       " 'now',\n",
       " 'o',\n",
       " 'of',\n",
       " 'off',\n",
       " 'on',\n",
       " 'once',\n",
       " 'only',\n",
       " 'or',\n",
       " 'other',\n",
       " 'our',\n",
       " 'ours',\n",
       " 'ourselves',\n",
       " 'out',\n",
       " 'over',\n",
       " 'own',\n",
       " 're',\n",
       " 's',\n",
       " 'same',\n",
       " 'shan',\n",
       " \"shan't\",\n",
       " 'she',\n",
       " \"she'd\",\n",
       " \"she'll\",\n",
       " \"she's\",\n",
       " 'should',\n",
       " 'shouldn',\n",
       " \"shouldn't\",\n",
       " \"should've\",\n",
       " 'so',\n",
       " 'some',\n",
       " 'such',\n",
       " 't',\n",
       " 'than',\n",
       " 'that',\n",
       " \"that'll\",\n",
       " 'the',\n",
       " 'their',\n",
       " 'theirs',\n",
       " 'them',\n",
       " 'themselves',\n",
       " 'then',\n",
       " 'there',\n",
       " 'these',\n",
       " 'they',\n",
       " \"they'd\",\n",
       " \"they'll\",\n",
       " \"they're\",\n",
       " \"they've\",\n",
       " 'this',\n",
       " 'those',\n",
       " 'through',\n",
       " 'to',\n",
       " 'too',\n",
       " 'under',\n",
       " 'until',\n",
       " 'up',\n",
       " 've',\n",
       " 'very',\n",
       " 'was',\n",
       " 'wasn',\n",
       " \"wasn't\",\n",
       " 'we',\n",
       " \"we'd\",\n",
       " \"we'll\",\n",
       " \"we're\",\n",
       " 'were',\n",
       " 'weren',\n",
       " \"weren't\",\n",
       " \"we've\",\n",
       " 'what',\n",
       " 'when',\n",
       " 'where',\n",
       " 'which',\n",
       " 'while',\n",
       " 'who',\n",
       " 'whom',\n",
       " 'why',\n",
       " 'will',\n",
       " 'with',\n",
       " 'won',\n",
       " \"won't\",\n",
       " 'wouldn',\n",
       " \"wouldn't\",\n",
       " 'y',\n",
       " 'you',\n",
       " \"you'd\",\n",
       " \"you'll\",\n",
       " 'your',\n",
       " \"you're\",\n",
       " 'yours',\n",
       " 'yourself',\n",
       " 'yourselves',\n",
       " \"you've\"]"
      ]
     },
     "execution_count": 59,
     "metadata": {},
     "output_type": "execute_result"
    }
   ],
   "source": [
    "stopwords.words(\"english\")"
   ]
  },
  {
   "cell_type": "code",
   "execution_count": 60,
   "metadata": {},
   "outputs": [
    {
     "data": {
      "text/plain": [
       "[('Andrew', 523),\n",
       " ('FLETCHER', 270),\n",
       " ('ANDREW', 263),\n",
       " ('Fletcher', 218),\n",
       " ('CONT', 163),\n",
       " ('9', 122),\n",
       " ('10', 117),\n",
       " ('2013', 112),\n",
       " ('Pink', 112),\n",
       " ('INT', 100),\n",
       " ('looks', 99),\n",
       " ('back', 96),\n",
       " ('eyes', 75),\n",
       " ('know', 70),\n",
       " ('time', 69),\n",
       " ('like', 67),\n",
       " ('band', 63),\n",
       " ('Ryan', 53),\n",
       " ('turns', 51),\n",
       " ('one', 49)]"
      ]
     },
     "execution_count": 60,
     "metadata": {},
     "output_type": "execute_result"
    }
   ],
   "source": [
    "def clean_alphanumeric(frequency_list):\n",
    "   return  [(token, count) for token,count in frequency_list if token.isalnum()]\n",
    "new_frequency = clean_alphanumeric(new_frequency)\n",
    "new_frequency[:20]"
   ]
  },
  {
   "cell_type": "code",
   "execution_count": 61,
   "metadata": {},
   "outputs": [
    {
     "data": {
      "text/plain": [
       "<Axes: xlabel='position', ylabel='count'>"
      ]
     },
     "execution_count": 61,
     "metadata": {},
     "output_type": "execute_result"
    },
    {
     "data": {
      "image/png": "[encoded data removed]",
      "text/plain": [
       "<Figure size 640x480 with 1 Axes>"
      ]
     },
     "metadata": {},
     "output_type": "display_data"
    }
   ],
   "source": [
    "df = pd.DataFrame(new_frequency, columns =['token', 'count'])\n",
    "df[\"position\"]= df.apply((lambda x: x.name), axis=1)\n",
    "df.plot.scatter(x='position',y='count')"
   ]
  },
  {
   "cell_type": "code",
   "execution_count": 64,
   "metadata": {},
   "outputs": [
    {
     "data": {
      "text/plain": [
       "<matplotlib.image.AxesImage at 0x134b92ab0>"
      ]
     },
     "execution_count": 64,
     "metadata": {},
     "output_type": "execute_result"
    },
    {
     "data": {
      "image/png": "[encoded data removed]",
      "text/plain": [
       "<Figure size 640x480 with 1 Axes>"
      ]
     },
     "metadata": {},
     "output_type": "display_data"
    }
   ],
   "source": [
    "from wordcloud import WordCloud\n",
    "import matplotlib.pyplot as mplot\n",
    "\n",
    "oc_cloud= WordCloud(background_color='white', max_words=300,\n",
    "                    max_font_size=40,random_state=1).generate(str(df))\n",
    "mplot.imshow(oc_cloud)"
   ]
  },
  {
   "cell_type": "code",
   "execution_count": 68,
   "metadata": {},
   "outputs": [
    {
     "name": "stdout",
     "output_type": "stream",
     "text": [
      "Displaying 25 of 786 matches:\n",
      "ed on his single - stroke roll , is ANDREW NEIMAN . He ' s 19 , slight , honor\n",
      "practice room . Stopping , rising — ANDREW Sorry ... I ' m — I ' m sorry — MAN\n",
      "you — FLETCHER What ' s your name ? ANDREW Andrew Neiman , sir . ( It ' s pron\n",
      "LETCHER What ' s your name ? ANDREW Andrew Neiman , sir . ( It ' s pronounced \n",
      "an \".) FLETCHER What year are you ? ANDREW I ' m a first - year , sir . FLETCH\n",
      " sir . FLETCHER You know who I am ? ANDREW Yes ... FLETCHER You know what I do\n",
      "hat I do ? Pink ( 9 / 10 / 2013 ) 2 ANDREW Yes ... FLETCHER So you know I ' m \n",
      "ou know I ' m looking for players . ANDREW Yes ... FLETCHER Then why did you s\n",
      "n why did you stop playing ? Beat . Andrew nods , smiles . He gets it . Summon\n",
      " Did I say to start playing again ? Andrew looks at him . ANDREW I thought — (\n",
      "aying again ? Andrew looks at him . ANDREW I thought — ( then , blanching ,) I\n",
      "n into a wind - up drummer monkey . ANDREW I ' m sorry — I — I stopped playing\n",
      "— FLETCHER Show me your rudiments . Andrew nods . Plays one rudiment after ano\n",
      " clapping his hand in time . Fast . Andrew plays . FLETCHER ( CONT ' D ) No . \n",
      "bop - bop - bop - bop - bop - bop . Andrew tries doubling the tempo . But he c\n",
      "TOPS CLAPPING . The sign of death . Andrew keeps playing , eyes shut ... Then \n",
      " the door OPENS . It ' s Fletcher . Andrew ' s eyes widen . Maybe it ' s not o\n",
      " steps back out , CLOSES the door . Andrew stares ahead , alone again at the d\n",
      "ver . WIDE SHOT of the band room as Andrew slowly rises . A title card : Shaff\n",
      "ET - SHAFFER CONSERVATORY - NIGHT 2 Andrew exits , hurries off . Pasted onto h\n",
      "HT 3 A quiet two - screen theater . Andrew buys concessions . The GIRL at the \n",
      "e is NICOLE . NICOLE Swedish fish ? ANDREW Nah , not this time , thanks ... An\n",
      "EW Nah , not this time , thanks ... Andrew and Nicole exchange smiles . He tak\n",
      "space . She looks suddenly lonely . Andrew takes in the sight . You can tell h\n",
      "T . MOVIE THEATER - MOMENTS LATER 4 Andrew spots a 53 - year - old man seated \n"
     ]
    }
   ],
   "source": [
    "analyzer = nltk.Text(my_corpus.words())\n",
    "analyzer.concordance(\"Andrew\")"
   ]
  },
  {
   "cell_type": "code",
   "execution_count": 66,
   "metadata": {},
   "outputs": [
    {
     "name": "stdout",
     "output_type": "stream",
     "text": [
      "GEHRING HALL; Studio Band; MOMENTS LATER; UNCLE FRANK; STUDIO BAND;\n",
      "RACHEL BORNHOLDT; Charlie Parker; DUNELLEN AUDITORIUM; BAND ROOM; BAND\n",
      "REHEARSAL; PRACTICE ROOM; NEW YORK; Andrew looks; Buddy Rich; Lincoln\n",
      "Center; ZANKEL HALL; STAGE HAND; sheet music; NASSAU BAND; AUNT EMMA\n"
     ]
    }
   ],
   "source": [
    "analyzer.collocations()"
   ]
  }
 ],
 "metadata": {
  "kernelspec": {
   "display_name": "Python 3",
   "language": "python",
   "name": "python3"
  },
  "language_info": {
   "codemirror_mode": {
    "name": "ipython",
    "version": 3
   },
   "file_extension": ".py",
   "mimetype": "text/x-python",
   "name": "python",
   "nbconvert_exporter": "python",
   "pygments_lexer": "ipython3",
   "version": "3.12.7"
  },
  "orig_nbformat": 4
 },
 "nbformat": 4,
 "nbformat_minor": 2
}
